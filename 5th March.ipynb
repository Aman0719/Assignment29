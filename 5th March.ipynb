{
 "cells": [
  {
   "cell_type": "code",
   "execution_count": null,
   "id": "233c5de0-f078-4628-92f0-7e2c0f8c42e5",
   "metadata": {},
   "outputs": [],
   "source": [
    "Q1. How can you create a Bokeh plot using Python code?\n",
    "\n",
    "Ans-\n",
    "\n",
    "Bokeh is a popular Python library for creating interactive and visually appealing data visualizations. \n",
    "Here is how we can create a basic Bokeh plot using Python code:\n"
   ]
  },
  {
   "cell_type": "code",
   "execution_count": 7,
   "id": "b3482d1b-4d83-4b90-b07b-a68ce4a93361",
   "metadata": {},
   "outputs": [
    {
     "name": "stdout",
     "output_type": "stream",
     "text": [
      "Requirement already satisfied: bokeh in /opt/conda/lib/python3.10/site-packages (3.0.3)\n",
      "Requirement already satisfied: contourpy>=1 in /opt/conda/lib/python3.10/site-packages (from bokeh) (1.0.6)\n",
      "Requirement already satisfied: numpy>=1.11.3 in /opt/conda/lib/python3.10/site-packages (from bokeh) (1.23.5)\n",
      "Requirement already satisfied: tornado>=5.1 in /opt/conda/lib/python3.10/site-packages (from bokeh) (6.1)\n",
      "Requirement already satisfied: pandas>=1.2 in /opt/conda/lib/python3.10/site-packages (from bokeh) (1.5.2)\n",
      "Requirement already satisfied: packaging>=16.8 in /opt/conda/lib/python3.10/site-packages (from bokeh) (22.0)\n",
      "Requirement already satisfied: Jinja2>=2.9 in /opt/conda/lib/python3.10/site-packages (from bokeh) (3.1.2)\n",
      "Requirement already satisfied: pillow>=7.1.0 in /opt/conda/lib/python3.10/site-packages (from bokeh) (9.2.0)\n",
      "Requirement already satisfied: xyzservices>=2021.09.1 in /opt/conda/lib/python3.10/site-packages (from bokeh) (2022.9.0)\n",
      "Requirement already satisfied: PyYAML>=3.10 in /opt/conda/lib/python3.10/site-packages (from bokeh) (6.0)\n",
      "Requirement already satisfied: MarkupSafe>=2.0 in /opt/conda/lib/python3.10/site-packages (from Jinja2>=2.9->bokeh) (2.1.1)\n",
      "Requirement already satisfied: python-dateutil>=2.8.1 in /opt/conda/lib/python3.10/site-packages (from pandas>=1.2->bokeh) (2.8.2)\n",
      "Requirement already satisfied: pytz>=2020.1 in /opt/conda/lib/python3.10/site-packages (from pandas>=1.2->bokeh) (2022.6)\n",
      "Requirement already satisfied: six>=1.5 in /opt/conda/lib/python3.10/site-packages (from python-dateutil>=2.8.1->pandas>=1.2->bokeh) (1.16.0)\n",
      "Note: you may need to restart the kernel to use updated packages.\n"
     ]
    }
   ],
   "source": [
    "#First, you need to install Bokeh using pip:\n",
    "pip install bokeh"
   ]
  },
  {
   "cell_type": "code",
   "execution_count": 1,
   "id": "63f996fd-f67e-4210-8020-37227f7f0ddb",
   "metadata": {},
   "outputs": [],
   "source": [
    "#Next, import the necessary modules from Bokeh:\n",
    "\n",
    "from bokeh.plotting import figure, output_file, show"
   ]
  },
  {
   "cell_type": "code",
   "execution_count": 2,
   "id": "1df3f1ce-1fa1-4402-b01a-3e011442dea3",
   "metadata": {},
   "outputs": [],
   "source": [
    "#Create some sample data to plot:\n",
    "\n",
    "x = [1, 2, 3, 4, 5]\n",
    "y = [6, 7, 2, 4, 5]"
   ]
  },
  {
   "cell_type": "code",
   "execution_count": 3,
   "id": "55d22848-df4e-45a0-aa37-9285b35b66f3",
   "metadata": {},
   "outputs": [],
   "source": [
    "#Specify the output file for the plot:\n",
    "\n",
    "output_file(\"plot.html\")"
   ]
  },
  {
   "cell_type": "code",
   "execution_count": 4,
   "id": "a484f559-eb54-4dc7-b827-6b7bedc71012",
   "metadata": {},
   "outputs": [],
   "source": [
    "#Create a new figure object:\n",
    "\n",
    "p = figure(title=\"Sample Plot\", x_axis_label='X axis', y_axis_label='Y axis')"
   ]
  },
  {
   "cell_type": "code",
   "execution_count": 5,
   "id": "3afe9f4c-2734-44a1-bf9e-11ef37d25d2e",
   "metadata": {},
   "outputs": [
    {
     "data": {
      "text/html": [
       "<div style=\"display: table;\"><div style=\"display: table-row;\"><div style=\"display: table-cell;\"><b title=\"bokeh.models.renderers.glyph_renderer.GlyphRenderer\">GlyphRenderer</b>(</div><div style=\"display: table-cell;\">id&nbsp;=&nbsp;'p1078', <span id=\"p1100\" style=\"cursor: pointer;\">&hellip;)</span></div></div><div class=\"p1099\" style=\"display: none;\"><div style=\"display: table-cell;\"></div><div style=\"display: table-cell;\">coordinates&nbsp;=&nbsp;None,</div></div><div class=\"p1099\" style=\"display: none;\"><div style=\"display: table-cell;\"></div><div style=\"display: table-cell;\">data_source&nbsp;=&nbsp;ColumnDataSource(id='p1072', ...),</div></div><div class=\"p1099\" style=\"display: none;\"><div style=\"display: table-cell;\"></div><div style=\"display: table-cell;\">glyph&nbsp;=&nbsp;Circle(id='p1075', ...),</div></div><div class=\"p1099\" style=\"display: none;\"><div style=\"display: table-cell;\"></div><div style=\"display: table-cell;\">group&nbsp;=&nbsp;None,</div></div><div class=\"p1099\" style=\"display: none;\"><div style=\"display: table-cell;\"></div><div style=\"display: table-cell;\">hover_glyph&nbsp;=&nbsp;None,</div></div><div class=\"p1099\" style=\"display: none;\"><div style=\"display: table-cell;\"></div><div style=\"display: table-cell;\">js_event_callbacks&nbsp;=&nbsp;{},</div></div><div class=\"p1099\" style=\"display: none;\"><div style=\"display: table-cell;\"></div><div style=\"display: table-cell;\">js_property_callbacks&nbsp;=&nbsp;{},</div></div><div class=\"p1099\" style=\"display: none;\"><div style=\"display: table-cell;\"></div><div style=\"display: table-cell;\">level&nbsp;=&nbsp;'glyph',</div></div><div class=\"p1099\" style=\"display: none;\"><div style=\"display: table-cell;\"></div><div style=\"display: table-cell;\">muted&nbsp;=&nbsp;False,</div></div><div class=\"p1099\" style=\"display: none;\"><div style=\"display: table-cell;\"></div><div style=\"display: table-cell;\">muted_glyph&nbsp;=&nbsp;Circle(id='p1077', ...),</div></div><div class=\"p1099\" style=\"display: none;\"><div style=\"display: table-cell;\"></div><div style=\"display: table-cell;\">name&nbsp;=&nbsp;None,</div></div><div class=\"p1099\" style=\"display: none;\"><div style=\"display: table-cell;\"></div><div style=\"display: table-cell;\">nonselection_glyph&nbsp;=&nbsp;Circle(id='p1076', ...),</div></div><div class=\"p1099\" style=\"display: none;\"><div style=\"display: table-cell;\"></div><div style=\"display: table-cell;\">selection_glyph&nbsp;=&nbsp;'auto',</div></div><div class=\"p1099\" style=\"display: none;\"><div style=\"display: table-cell;\"></div><div style=\"display: table-cell;\">subscribed_events&nbsp;=&nbsp;PropertyValueSet(),</div></div><div class=\"p1099\" style=\"display: none;\"><div style=\"display: table-cell;\"></div><div style=\"display: table-cell;\">syncable&nbsp;=&nbsp;True,</div></div><div class=\"p1099\" style=\"display: none;\"><div style=\"display: table-cell;\"></div><div style=\"display: table-cell;\">tags&nbsp;=&nbsp;[],</div></div><div class=\"p1099\" style=\"display: none;\"><div style=\"display: table-cell;\"></div><div style=\"display: table-cell;\">view&nbsp;=&nbsp;CDSView(id='p1079', ...),</div></div><div class=\"p1099\" style=\"display: none;\"><div style=\"display: table-cell;\"></div><div style=\"display: table-cell;\">visible&nbsp;=&nbsp;True,</div></div><div class=\"p1099\" style=\"display: none;\"><div style=\"display: table-cell;\"></div><div style=\"display: table-cell;\">x_range_name&nbsp;=&nbsp;'default',</div></div><div class=\"p1099\" style=\"display: none;\"><div style=\"display: table-cell;\"></div><div style=\"display: table-cell;\">y_range_name&nbsp;=&nbsp;'default')</div></div></div>\n",
       "<script>\n",
       "(function() {\n",
       "  let expanded = false;\n",
       "  const ellipsis = document.getElementById(\"p1100\");\n",
       "  ellipsis.addEventListener(\"click\", function() {\n",
       "    const rows = document.getElementsByClassName(\"p1099\");\n",
       "    for (let i = 0; i < rows.length; i++) {\n",
       "      const el = rows[i];\n",
       "      el.style.display = expanded ? \"none\" : \"table-row\";\n",
       "    }\n",
       "    ellipsis.innerHTML = expanded ? \"&hellip;)\" : \"&lsaquo;&lsaquo;&lsaquo;\";\n",
       "    expanded = !expanded;\n",
       "  });\n",
       "})();\n",
       "</script>\n"
      ],
      "text/plain": [
       "GlyphRenderer(id='p1078', ...)"
      ]
     },
     "execution_count": 5,
     "metadata": {},
     "output_type": "execute_result"
    }
   ],
   "source": [
    "#Add data to the figure:\n",
    "\n",
    "p.line(x, y, legend_label=\"Sample data\", line_width=2)\n",
    "p.circle(x, y, legend_label=\"Sample data\", fill_color=\"white\", size=8)"
   ]
  },
  {
   "cell_type": "code",
   "execution_count": 6,
   "id": "aca77598-bd93-4f93-9341-a2dc0ce2f72c",
   "metadata": {},
   "outputs": [],
   "source": [
    "#Show the plot:\n",
    "\n",
    "show(p)"
   ]
  },
  {
   "cell_type": "code",
   "execution_count": null,
   "id": "6f63871d-9de6-47de-b254-11f5e2e7fed5",
   "metadata": {},
   "outputs": [],
   "source": [
    "Q2. What are glyphs in Bokeh, and how can you add them to a Bokeh plot? Explain with an example.\n",
    "\n",
    "Ans-\n",
    "\n",
    "In Bokeh, glyphs are visual shapes that can be added to a plot to represent data points. \n",
    "Glyphs can be customized with various properties such as color, size, and shape. \n",
    "Here is an example of how to add glyphs to a Bokeh plot:"
   ]
  },
  {
   "cell_type": "code",
   "execution_count": 7,
   "id": "f24dcdf7-9d50-469d-8782-c44ce86aaf83",
   "metadata": {},
   "outputs": [],
   "source": [
    "from bokeh.plotting import figure, output_file, show\n",
    "from bokeh.models import ColumnDataSource\n",
    "\n",
    "# create some sample data\n",
    "x = [1, 2, 3, 4, 5]\n",
    "y = [6, 7, 2, 4, 5]\n",
    "colors = [\"red\", \"green\", \"blue\", \"purple\", \"orange\"]\n",
    "sizes = [10, 20, 30, 40, 50]\n",
    "shapes = [\"circle\", \"square\", \"triangle\", \"inverted_triangle\", \"diamond\"]\n",
    "\n",
    "# specify the output file\n",
    "output_file(\"glyphs.html\")\n",
    "\n",
    "# create a new figure object\n",
    "p = figure(title=\"Glyphs Example\", x_axis_label='X axis', y_axis_label='Y axis')\n",
    "\n",
    "# create a ColumnDataSource object to hold the data\n",
    "source = ColumnDataSource(data=dict(x=x, y=y, colors=colors, sizes=sizes, shapes=shapes))\n",
    "\n",
    "# add glyphs to the plot\n",
    "p.circle(x=\"x\", y=\"y\", color=\"colors\", size=\"sizes\", source=source, legend_label=\"Circles\")\n",
    "p.square(x=\"x\", y=\"y\", color=\"colors\", size=\"sizes\", source=source, legend_label=\"Squares\")\n",
    "p.triangle(x=\"x\", y=\"y\", color=\"colors\", size=\"sizes\", source=source, legend_label=\"Triangles\")\n",
    "p.inverted_triangle(x=\"x\", y=\"y\", color=\"colors\", size=\"sizes\", source=source, legend_label=\"Inverted Triangles\")\n",
    "p.diamond(x=\"x\", y=\"y\", color=\"colors\", size=\"sizes\", source=source, legend_label=\"Diamonds\")\n",
    "\n",
    "# customize the legend\n",
    "p.legend.location = \"top_left\"\n",
    "p.legend.title = \"Glyphs\"\n",
    "\n",
    "# show the plot\n",
    "show(p)\n"
   ]
  },
  {
   "cell_type": "code",
   "execution_count": null,
   "id": "587f005c-7468-4393-a580-1430d71dc47e",
   "metadata": {},
   "outputs": [],
   "source": [
    "Q3. How can you customize the appearance of a Bokeh plot, including the axes, title, and legend?\n",
    "\n",
    "Ans-\n",
    "\n",
    "Bokeh provides several ways to customize the appearance of a plot, including the axes, title, and legend. \n",
    "Here are some examples of how to customize these elements:"
   ]
  },
  {
   "cell_type": "code",
   "execution_count": 8,
   "id": "b11730cd-b138-4ed6-85a1-0ff4a4a08464",
   "metadata": {},
   "outputs": [],
   "source": [
    "#(i) Title\n",
    "# create a new figure object\n",
    "p = figure(title=\"My Title\")\n",
    "\n",
    "# customize the title\n",
    "p.title.text_font_size = \"20pt\"\n",
    "p.title.align = \"center\"\n"
   ]
  },
  {
   "cell_type": "code",
   "execution_count": 9,
   "id": "c5fc0649-65c6-43dc-b15a-f427fe476f88",
   "metadata": {},
   "outputs": [],
   "source": [
    "#(ii) Axes\n",
    "# create a new figure object\n",
    "p = figure(x_axis_label=\"X Label\", y_axis_label=\"Y Label\")\n",
    "\n",
    "# customize the x-axis\n",
    "p.xaxis.axis_label_text_font_size = \"16pt\"\n",
    "p.xaxis.major_label_text_font_size = \"14pt\"\n",
    "p.xaxis.axis_line_width = 2\n",
    "\n",
    "# customize the y-axis\n",
    "p.yaxis.axis_label_text_font_size = \"16pt\"\n",
    "p.yaxis.major_label_text_font_size = \"14pt\"\n",
    "p.yaxis.axis_line_width = 2\n"
   ]
  },
  {
   "cell_type": "code",
   "execution_count": 10,
   "id": "fc6bcaff-c2fd-425f-aa4e-9232c166fb79",
   "metadata": {},
   "outputs": [],
   "source": [
    "#(iii) Legend\n",
    "\n",
    "# create a new figure object\n",
    "p = figure()\n",
    "\n",
    "# add glyphs to the plot\n",
    "p.circle(x, y, legend_label=\"My Data\")\n",
    "\n",
    "# customize the legend\n",
    "p.legend.title = \"My Legend\"\n",
    "p.legend.title_text_font_size = \"16pt\"\n",
    "p.legend.label_text_font_size = \"14pt\"\n",
    "p.legend.location = \"top_left\"\n"
   ]
  },
  {
   "cell_type": "code",
   "execution_count": null,
   "id": "0132b9cd-202d-49a1-b880-f7f134b3a42c",
   "metadata": {},
   "outputs": [],
   "source": [
    "Q4. What is a Bokeh server, and how can you use it to create interactive plots that can be updated in real time?\n",
    "\n",
    "Ans-\n",
    "\n",
    "A Bokeh server is a Python process that allows you to create and serve Bokeh documents, which can be interactive plots and applications that can be updated in real time.\n",
    "The Bokeh server makes it possible to add interactivity to your plots, such as sliders, drop-down menus, and buttons that can trigger updates to the plot data or appearance.\n",
    "\n",
    "To use the Bokeh server, you can create a new Bokeh document using the curdoc function, and add the various plot elements, glyphs, and widgets to it. \n",
    "Then, you can start the Bokeh server using the bokeh serve command in the terminal, and specify the file or directory where your Bokeh document is located.\n",
    "\n",
    "Here is an example of how to create a simple Bokeh app using the Bokeh server:"
   ]
  },
  {
   "cell_type": "code",
   "execution_count": null,
   "id": "1e00fd35-79a4-4e21-aaa9-9e619248b774",
   "metadata": {},
   "outputs": [],
   "source": [
    "import asyncio\n",
    "from bokeh.server.server import Server\n",
    "from bokeh.application import Application\n",
    "from bokeh.application.handlers.function import FunctionHandler\n",
    "\n",
    "def modify_doc(doc):\n",
    "    # create some sample data\n",
    "    x = [1, 2, 3, 4, 5]\n",
    "    y = [6, 7, 2, 4, 5]\n",
    "    source = ColumnDataSource(data=dict(x=x, y=y))\n",
    "\n",
    "    # create a new plot with a circle glyph\n",
    "    plot = figure(plot_width=400, plot_height=400)\n",
    "    plot.circle('x', 'y', source=source)\n",
    "\n",
    "    # create a slider widget\n",
    "    slider = Slider(start=0, end=10, value=1, step=1, title=\"Slider\")\n",
    "\n",
    "    # define a callback function for the slider\n",
    "    def callback(attr, old, new):\n",
    "        source.data = dict(x=x, y=[i * new for i in y])\n",
    "\n",
    "    # add the callback to the slider widget\n",
    "    slider.on_change('value', callback)\n",
    "\n",
    "    # arrange the plot and the slider in a layout\n",
    "    layout = column(plot, slider)\n",
    "\n",
    "    # add the layout to the document\n",
    "    doc.add_root(layout)\n",
    "\n",
    "async def start_bokeh_server():\n",
    "    # create a new Bokeh application\n",
    "    handler = FunctionHandler(modify_doc)\n",
    "    app = Application(handler)\n",
    "\n",
    "    # start the Bokeh server and serve the application\n",
    "    server = Server({'/': app})\n",
    "    await server.start_asyncio()\n",
    "    await server.show('/')\n",
    "\n",
    "# start the event loop and run the Bokeh server\n",
    "asyncio.run(start_bokeh_server())\n"
   ]
  },
  {
   "cell_type": "code",
   "execution_count": null,
   "id": "a89b7625-1121-4b35-9f4f-666fd7a540ce",
   "metadata": {},
   "outputs": [],
   "source": [
    "Q5. How can you embed a Bokeh plot into a web page or dashboard using Flask or Django?\n",
    "\n",
    "Ans-\n",
    "\n",
    "Bokeh plots can be embedded into web pages or dashboards using Flask or Django using the Bokeh server. \n",
    "Here is an example of how to embed a Bokeh plot in a Flask web page:"
   ]
  },
  {
   "cell_type": "code",
   "execution_count": 4,
   "id": "d257b452-3885-42ef-a90c-3f4d68311086",
   "metadata": {},
   "outputs": [],
   "source": [
    "#First, create a Bokeh plot using Python code, as you normally would:\n",
    "\n",
    "from bokeh.plotting import figure, output_file, show\n",
    "\n",
    "# create a new plot with a line glyph\n",
    "x = [1, 2, 3, 4, 5]\n",
    "y = [6, 7, 2, 4, 5]\n",
    "plot = figure(title=\"Example Bokeh Plot\")\n",
    "plot.line(x, y)\n",
    "\n",
    "# save the plot to an HTML file\n",
    "output_file(\"bokeh_plot.html\")\n",
    "\n",
    "# show the plot in a new browser tab\n",
    "show(plot)"
   ]
  },
  {
   "cell_type": "code",
   "execution_count": 7,
   "id": "deef2f20-1a80-49e5-9bb9-25069e67263e",
   "metadata": {},
   "outputs": [
    {
     "name": "stdout",
     "output_type": "stream",
     "text": [
      "Collecting flask\n",
      "  Downloading Flask-2.2.3-py3-none-any.whl (101 kB)\n",
      "\u001b[2K     \u001b[90m━━━━━━━━━━━━━━━━━━━━━━━━━━━━━━━━━━━━━━━\u001b[0m \u001b[32m101.8/101.8 kB\u001b[0m \u001b[31m4.9 MB/s\u001b[0m eta \u001b[36m0:00:00\u001b[0m\n",
      "\u001b[?25hRequirement already satisfied: Jinja2>=3.0 in /opt/conda/lib/python3.10/site-packages (from flask) (3.1.2)\n",
      "Requirement already satisfied: click>=8.0 in /opt/conda/lib/python3.10/site-packages (from flask) (8.1.3)\n",
      "Collecting Werkzeug>=2.2.2\n",
      "  Downloading Werkzeug-2.2.3-py3-none-any.whl (233 kB)\n",
      "\u001b[2K     \u001b[90m━━━━━━━━━━━━━━━━━━━━━━━━━━━━━━━━━━━━━━\u001b[0m \u001b[32m233.6/233.6 kB\u001b[0m \u001b[31m21.6 MB/s\u001b[0m eta \u001b[36m0:00:00\u001b[0m\n",
      "\u001b[?25hCollecting itsdangerous>=2.0\n",
      "  Downloading itsdangerous-2.1.2-py3-none-any.whl (15 kB)\n",
      "Requirement already satisfied: MarkupSafe>=2.0 in /opt/conda/lib/python3.10/site-packages (from Jinja2>=3.0->flask) (2.1.1)\n",
      "Installing collected packages: Werkzeug, itsdangerous, flask\n",
      "Successfully installed Werkzeug-2.2.3 flask-2.2.3 itsdangerous-2.1.2\n",
      "Note: you may need to restart the kernel to use updated packages.\n"
     ]
    }
   ],
   "source": [
    "pip install flask"
   ]
  },
  {
   "cell_type": "code",
   "execution_count": 1,
   "id": "26f5a22d-4317-47b5-b25c-458cc70af8b0",
   "metadata": {},
   "outputs": [
    {
     "name": "stdout",
     "output_type": "stream",
     "text": [
      " * Serving Flask app '__main__'\n",
      " * Debug mode: on\n"
     ]
    },
    {
     "name": "stderr",
     "output_type": "stream",
     "text": [
      "WARNING: This is a development server. Do not use it in a production deployment. Use a production WSGI server instead.\n",
      " * Running on http://127.0.0.1:5000\n",
      "Press CTRL+C to quit\n",
      " * Restarting with stat\n",
      "Traceback (most recent call last):\n",
      "  File \"/opt/conda/lib/python3.10/site-packages/ipykernel_launcher.py\", line 17, in <module>\n",
      "    app.launch_new_instance()\n",
      "  File \"/opt/conda/lib/python3.10/site-packages/traitlets/config/application.py\", line 991, in launch_instance\n",
      "    app.initialize(argv)\n",
      "  File \"/opt/conda/lib/python3.10/site-packages/traitlets/config/application.py\", line 113, in inner\n",
      "    return method(app, *args, **kwargs)\n",
      "  File \"/opt/conda/lib/python3.10/site-packages/ipykernel/kernelapp.py\", line 665, in initialize\n",
      "    self.init_sockets()\n",
      "  File \"/opt/conda/lib/python3.10/site-packages/ipykernel/kernelapp.py\", line 309, in init_sockets\n",
      "    self.shell_port = self._bind_socket(self.shell_socket, self.shell_port)\n",
      "  File \"/opt/conda/lib/python3.10/site-packages/ipykernel/kernelapp.py\", line 246, in _bind_socket\n",
      "    return self._try_bind_socket(s, port)\n",
      "  File \"/opt/conda/lib/python3.10/site-packages/ipykernel/kernelapp.py\", line 222, in _try_bind_socket\n",
      "    s.bind(\"tcp://%s:%i\" % (self.ip, port))\n",
      "  File \"/opt/conda/lib/python3.10/site-packages/zmq/sugar/socket.py\", line 232, in bind\n",
      "    super().bind(addr)\n",
      "  File \"zmq/backend/cython/socket.pyx\", line 568, in zmq.backend.cython.socket.Socket.bind\n",
      "  File \"zmq/backend/cython/checkrc.pxd\", line 28, in zmq.backend.cython.checkrc._check_rc\n",
      "zmq.error.ZMQError: Address already in use\n"
     ]
    },
    {
     "ename": "SystemExit",
     "evalue": "1",
     "output_type": "error",
     "traceback": [
      "An exception has occurred, use %tb to see the full traceback.\n",
      "\u001b[0;31mSystemExit\u001b[0m\u001b[0;31m:\u001b[0m 1\n"
     ]
    },
    {
     "name": "stderr",
     "output_type": "stream",
     "text": [
      "/opt/conda/lib/python3.10/site-packages/IPython/core/interactiveshell.py:3441: UserWarning: To exit: use 'exit', 'quit', or Ctrl-D.\n",
      "  warn(\"To exit: use 'exit', 'quit', or Ctrl-D.\", stacklevel=1)\n"
     ]
    }
   ],
   "source": [
    "#Next, modify the code to use the Bokeh server and embed the plot in a Flask web page:\n",
    "\n",
    "from flask import Flask, render_template\n",
    "from bokeh.embed import server_document\n",
    "from bokeh.plotting import figure\n",
    "from bokeh.resources import CDN\n",
    "from bokeh.server.server import Server\n",
    "from tornado.ioloop import IOLoop\n",
    "\n",
    "app = Flask(__name__)\n",
    "\n",
    "# create a new Bokeh application\n",
    "def modify_doc(doc):\n",
    "    # create some sample data\n",
    "    x = [1, 2, 3, 4, 5]\n",
    "    y = [6, 7, 2, 4, 5]\n",
    "\n",
    "    # create a new plot with a line glyph\n",
    "    plot = figure(title=\"Example Bokeh Plot\")\n",
    "    plot.line(x, y)\n",
    "\n",
    "    # add the plot to the document\n",
    "    doc.add_root(plot)\n",
    "\n",
    "# define a Flask route to serve the embedded Bokeh plot\n",
    "@app.route('/bokeh_plot')\n",
    "def bokeh_plot():\n",
    "    # create a new Bokeh server with the application\n",
    "    handler = FunctionHandler(modify_doc)\n",
    "    app = Application(handler)\n",
    "    server = Server({'/': app}, io_loop=IOLoop(), allow_websocket_origin=[\"localhost:5000\"])\n",
    "\n",
    "    # start the server and get the Bokeh script and div tags\n",
    "    server.start()\n",
    "    script = server_document('http://localhost:5006/', resources=CDN, relative_urls=False)\n",
    "    div = \"<div>{}</div>\".format(script)\n",
    "\n",
    "    # render the template with the Bokeh plot\n",
    "    return render_template('bokeh_plot.html', div=div)\n",
    "\n",
    "# define a Flask route to serve the HTML template with the Bokeh plot\n",
    "@app.route('/')\n",
    "def index():\n",
    "    return render_template('index.html')\n",
    "\n",
    "if __name__ == '__main__':\n",
    "    app.run(debug=True)"
   ]
  },
  {
   "cell_type": "code",
   "execution_count": null,
   "id": "3a587602-0033-4506-9b8f-dac77dfcb263",
   "metadata": {},
   "outputs": [],
   "source": []
  }
 ],
 "metadata": {
  "kernelspec": {
   "display_name": "Python 3 (ipykernel)",
   "language": "python",
   "name": "python3"
  },
  "language_info": {
   "codemirror_mode": {
    "name": "ipython",
    "version": 3
   },
   "file_extension": ".py",
   "mimetype": "text/x-python",
   "name": "python",
   "nbconvert_exporter": "python",
   "pygments_lexer": "ipython3",
   "version": "3.10.8"
  }
 },
 "nbformat": 4,
 "nbformat_minor": 5
}
